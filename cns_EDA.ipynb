{
 "cells": [
  {
   "cell_type": "code",
   "execution_count": 1,
   "id": "f539ffdb-60c2-4ee6-bbd8-51e6e4669ba8",
   "metadata": {},
   "outputs": [],
   "source": [
    "from pathlib import Path\n",
    "import shutil\n",
    "import os\n",
    "import numpy as np\n",
    "import pandas as pd\n",
    "import matplotlib.pyplot as plt\n",
    "import seaborn as sns\n",
    "from sklearn.cluster import DBSCAN\n",
    "from natsort import natsorted\n",
    "import umap\n",
    "from sklearn.preprocessing import MinMaxScaler, StandardScaler\n",
    "from matplotlib.gridspec import GridSpec\n",
    "from scipy.spatial.distance import pdist\n",
    "from scipy.cluster import hierarchy"
   ]
  },
  {
   "cell_type": "code",
   "execution_count": 24,
   "id": "268acc66-e9b0-46e3-9cd5-3475e82ee63e",
   "metadata": {},
   "outputs": [],
   "source": [
    "import matplotlib.colors as mplc\n",
    "import concurrent.futures\n",
    "import os"
   ]
  },
  {
   "cell_type": "markdown",
   "id": "aa7fbecd-9ca0-4deb-8254-5abf13537c3c",
   "metadata": {},
   "source": [
    "## データ準備"
   ]
  },
  {
   "cell_type": "code",
   "execution_count": 3,
   "id": "e054a37a-92d7-4ec7-9b60-f2d4aca4670c",
   "metadata": {},
   "outputs": [],
   "source": [
    "#対象フォルダ内の.cnsを取得\n",
    "input_path = \"../data/call.cns_files/\"\n",
    "cns_path = [p for p in Path(input_path).glob(\"*.cns\")]\n",
    "\n",
    "#最初の.cnsだけデータフレームに読み込み\n",
    "df = pd.read_table(cns_path[0])\n",
    "df[\"ID\"] = cns_path[0].name.split(\".\")[0]\n",
    "\n",
    "#以降のデータを読み込み、データフレームに追加\n",
    "for p in cns_path[1:]:\n",
    "    cc = pd.read_table(p)\n",
    "    cc[\"ID\"] = p.name.split(\".\")[0]\n",
    "    df = pd.concat([df, cc])\n",
    "    \n",
    "#データフレームをソート\n",
    "df.sort_values([\"chromosome\", \"start\", \"end\"], ignore_index=True, inplace=True)"
   ]
  },
  {
   "cell_type": "code",
   "execution_count": null,
   "id": "94ad27b0-77bf-43e1-9cf2-32ccf963a833",
   "metadata": {
    "jupyter": {
     "source_hidden": true
    },
    "tags": []
   },
   "outputs": [],
   "source": [
    "\"\"\"\n",
    "record = []\n",
    "for chr in df[\"chromosome\"].unique():\n",
    "\n",
    "    queried = df.query(f\"chromosome == '{chr}'\")\n",
    "    pos_uni = np.unique(queried[\"start\"].tolist() + queried[\"end\"].tolist())\n",
    "    pos_list = [(pos_uni[i], pos_uni[i+1]) for i in range(len(sorted(pos_uni))-1)]\n",
    "    \n",
    "    for pos in pos_list:\n",
    "        q = queried.query(f\"start <= {pos[0]} & {pos[1]} <= end\")\n",
    "        cn_sum = q[\"cn\"].sum()\n",
    "        if cn_sum > 0:\n",
    "            pos_id = f\"{chr}:{pos[0]}:{pos[1]}\"\n",
    "            record.append([chr, pos_id, pos[0], pos[1], cn_sum])\n",
    "            \n",
    "df_sum = pd.DataFrame(record, columns=[\"CHROM\", \"ID\", \"start\", \"end\", \"cnsum\"])\n",
    "\"\"\""
   ]
  },
  {
   "cell_type": "code",
   "execution_count": 4,
   "id": "c90e0dee-4769-472c-8733-0aad1c6266bc",
   "metadata": {
    "jupyter": {
     "source_hidden": true
    },
    "tags": []
   },
   "outputs": [],
   "source": [
    "def unique_count(df, chrom, ppn=100, ppb=50):\n",
    "    \n",
    "    position = []\n",
    "    queried_chr = df.query(f\"chromosome == '{chrom}'\") #chromosomeでクエリ\n",
    "    pos_uni = np.unique(queried_chr[\"start\"].tolist() + queried_chr[\"end\"].tolist()) #startとendをuniqueに\n",
    "    position += [(chrom, pos_uni[i], pos_uni[i+1]) for i in range(len(sorted(pos_uni))-1)] #小さい順にuniqueな領域([chr, start, end])\n",
    "    arr = np.array([\"ID\"]+[f\"{p[0]}:{p[1]}:{p[2]}\" for p in position]) #(\"ID\", \"chr:start:end\", ...)dfのカラムになる\n",
    "\n",
    "    print(f\"----------processing: chromosome_{chrom}----------\")\n",
    "    print(f\"unique position: {len(position)}\")\n",
    "    \n",
    "    prg = 0\n",
    "    IDs = natsorted(df[\"ID\"].unique())\n",
    "    for i, ID in enumerate(IDs):\n",
    "        \n",
    "        record = np.array(ID) #dfの行になる\n",
    "        queried_id = queried_chr.query(f\"ID == '{ID}'\") #IDでクエリ\n",
    "        for p in position:\n",
    "            queried_pos = queried_id.query(f\"start <= {p[1]} & {p[2]} <= end\") #uniqueな位置を含む行\n",
    "            cnsum = queried_pos[\"cn\"].sum() #cnの合計値\n",
    "            record = np.hstack([record, cnsum]) #cnsumをrecordの後ろに追加\n",
    "            \n",
    "        arr = np.vstack([arr, record]) #arr(カラム)の下に合計値の行を追加\n",
    "        \n",
    "        #進行度を表示\n",
    "        #for文が終了した場合\n",
    "        if i == len(IDs)-1:\n",
    "            bar = \"=\"*(prg-1) + \">\"\n",
    "            print(f\"\\r\\033[K[{bar}] chrom_{chrom} is done\", end=\"\\n\")\n",
    "        #まだ終了していない場合\n",
    "        else:\n",
    "            #progressbarの更新\n",
    "            if i % int(round(len(IDs)/ppb,0)) == 0:\n",
    "                if prg == 0: bar = \" \"*(ppb-prg)\n",
    "                elif prg == 1: bar = \">\" + \" \"*(ppb-prg)\n",
    "                else: bar = \"=\"*(prg-1) + \">\" + \" \"*(ppb-prg)\n",
    "                prg += 1\n",
    "            #指定の割合に達していたら表示\n",
    "            if i % int(round(len(IDs)/ppn,0)) == 0:\n",
    "                print(f\"\\r\\033[K[{bar}] {i/len(IDs)*100:.1f}% ({i}/{len(IDs)})\", end=\"\")\n",
    "    \n",
    "    return arr"
   ]
  },
  {
   "cell_type": "code",
   "execution_count": 104,
   "id": "c28cfbec-1a1e-4b02-8553-35072f66f1ce",
   "metadata": {},
   "outputs": [],
   "source": [
    "def progress_bar(n_trial, i, ppb=50):\n",
    "    \n",
    "    prg = int(i // (n_trial/ppb))\n",
    "\n",
    "    if i+1 == n_trial:\n",
    "        bar = \"=\"*(ppb-1) + \">\"\n",
    "        print(f\"\\r\\033[K[{bar}] 100.0% ({i+1}/{n_trial})\\n\")\n",
    "    \n",
    "    elif i % int(round(n_trial/ppb)) == 0:\n",
    "        \n",
    "        if prg == 0: bar = \" \"*ppb        \n",
    "        else: bar = \"=\"*(prg-1) + \">\" + \" \"*(ppb-prg)\n",
    "        \n",
    "        print(f\"\\r\\033[K[{bar}] {i/n_trial*100:.1f}% ({i}/{n_trial})\", end=\"\")\n",
    "\n",
    "\n",
    "#dfをIDでクエリして、positionsと重複する領域の合計cnを返す\n",
    "def make_record(df, ID, positions, nID, i):\n",
    "    \n",
    "    record = np.array(ID) #dfの行になる\n",
    "    queried_id = df.query(f\"ID == '{ID}'\") #IDでクエリ\n",
    "    for p in positions:\n",
    "        queried_pos = queried_id.query(f\"start <= {p[1]} & {p[2]} <= end\") #uniqueな位置を含む行\n",
    "        cnsum = queried_pos[\"cn\"].sum() #cnの合計値\n",
    "        record = np.hstack([record, cnsum]) #cnsumをrecordの後ろに追加\n",
    "    \n",
    "    #進捗表示\n",
    "    progress_bar(nID, i)\n",
    "        \n",
    "    return record\n",
    "\n",
    "#\n",
    "def unique_count(df, chrom, workers=5, ppn=100, ppb=50):\n",
    "    \n",
    "    if any((workers == -1, workers == 0)): workers = os.cpu_count()\n",
    "    \n",
    "    q_df = df.query(f\"chromosome == '{chrom}'\") #chromosomeでクエリ\n",
    "    pos_uni = np.unique(q_df[\"start\"].tolist() + q_df[\"end\"].tolist()) #startとendをuniqueに\n",
    "    posli = [(chrom, pos_uni[i], pos_uni[i+1]) for i in range(len(sorted(pos_uni))-1)] #小さい順にuniqueな領域([chr, start, end])\n",
    "    \n",
    "    #進捗確認用\n",
    "    print(f\"----------processing: chromosome_{chrom}----------\")\n",
    "    print(f\"unique position: {len(posli)}\")\n",
    "    \n",
    "    #dfのカラムになる(\"ID\", \"chr:start1:end1\", \"chr:start1:end1\", ...)\n",
    "    arr = np.array([\"ID\"]+[f\"{p[0]}:{p[1]}:{p[2]}\" for p in posli])\n",
    "    \n",
    "    prg = 0 #進捗確認用\n",
    "    IDs = natsorted(df[\"ID\"].unique()) #uniqueなサンプルID\n",
    "    \n",
    "    #マルチプロセス\n",
    "    with concurrent.futures.ProcessPoolExecutor(max_workers=workers) as ex:\n",
    "        \n",
    "        futures = [ex.submit(make_record, q_df, ID, posli, len(IDs), i) for i, ID in enumerate(IDs)]\n",
    "        for f in futures:\n",
    "            arr = np.vstack([arr, f.result()]) #arr(カラム)の下に合計値の行を追加\n",
    "    \n",
    "    return arr\n",
    "    "
   ]
  },
  {
   "cell_type": "code",
   "execution_count": null,
   "id": "d6de12e2-4a11-4141-987d-ba319f5830de",
   "metadata": {},
   "outputs": [],
   "source": [
    "workers = 24\n",
    "chromosome = natsorted(df[\"chromosome\"].unique())\n",
    "arrs = [unique_count(df, chrom, workers=workers) for chrom in chromosome]"
   ]
  },
  {
   "cell_type": "code",
   "execution_count": null,
   "id": "e3003d52-8fe5-48e2-b0ab-b17150f1f07e",
   "metadata": {},
   "outputs": [],
   "source": [
    "arr17 = unique_count(df, chromosome[16], workers=workers)"
   ]
  },
  {
   "cell_type": "code",
   "execution_count": null,
   "id": "19614cb0-ef0c-499b-a583-53ce9c110962",
   "metadata": {},
   "outputs": [],
   "source": []
  },
  {
   "cell_type": "code",
   "execution_count": null,
   "id": "4dfec6f9-729a-43a2-b234-848b55df8549",
   "metadata": {},
   "outputs": [],
   "source": []
  },
  {
   "cell_type": "code",
   "execution_count": null,
   "id": "d862ebc6-455b-49e3-9448-991c7a42f9c4",
   "metadata": {},
   "outputs": [],
   "source": []
  },
  {
   "cell_type": "code",
   "execution_count": 246,
   "id": "8200094a-8d1e-4987-b547-36ef57cc504c",
   "metadata": {},
   "outputs": [],
   "source": [
    "df17 = pd.DataFrame(chrom_17[1:], columns=chrom_17[0])"
   ]
  },
  {
   "cell_type": "code",
   "execution_count": 247,
   "id": "c0dbb4d9-afba-469b-9229-3c490b37f460",
   "metadata": {},
   "outputs": [],
   "source": [
    "type_dic = {}\n",
    "for c in chrom_17[0][1:]:\n",
    "    type_dic[c] = \"int\""
   ]
  },
  {
   "cell_type": "code",
   "execution_count": 251,
   "id": "92b9fc93-9c64-44d9-8468-1f6c512835f6",
   "metadata": {},
   "outputs": [],
   "source": [
    "df17 = df17.astype(type_dic)"
   ]
  },
  {
   "cell_type": "code",
   "execution_count": 264,
   "id": "df93a63b-2ea8-45d9-b3f0-fc462b37d176",
   "metadata": {},
   "outputs": [
    {
     "data": {
      "image/png": "[encoded data removed]",
      "text/plain": [
       "<Figure size 2000x400 with 2 Axes>"
      ]
     },
     "metadata": {},
     "output_type": "display_data"
    }
   ],
   "source": [
    "plt.figure(figsize=(20, 4))\n",
    "sns.heatmap(df17.iloc[:, 1:], xticklabels=False)\n",
    "plt.show()"
   ]
  },
  {
   "cell_type": "code",
   "execution_count": null,
   "id": "3696f561-c01e-42b4-9c20-8bf4b4a0173d",
   "metadata": {},
   "outputs": [],
   "source": []
  },
  {
   "cell_type": "code",
   "execution_count": null,
   "id": "86202ef7-7a2b-43c7-be0f-0a350689e4cf",
   "metadata": {},
   "outputs": [],
   "source": [
    "#各chrのarrテーブルを作成\n",
    "arrs = []\n",
    "chromosome = natsorted(df[\"chromosome\"].unique())\n",
    "for chrom in chromosome:\n",
    "    arrs.append(unique_count(df, chrom))"
   ]
  },
  {
   "cell_type": "code",
   "execution_count": null,
   "id": "0a2643ad-5d2b-44c5-aec2-4b71747b360a",
   "metadata": {
    "jupyter": {
     "source_hidden": true
    },
    "tags": []
   },
   "outputs": [],
   "source": [
    "\"\"\"\n",
    "arrs = []\n",
    "chromosome = natsorted(df[\"chromosome\"].unique().tolist())\n",
    "with concurrent.futures.ProcessPoolExecutor(max_workers=24) as ex: #max_workers=workers\n",
    "        futures = [ex.submit(unique_count, df, chrom) for chrom in chromosome]\n",
    "        arrs.append([f.result() for f in futures])\n",
    "        \"\"\""
   ]
  },
  {
   "cell_type": "code",
   "execution_count": null,
   "id": "24cec544-dd20-4c4e-8b72-cd361c63ecf5",
   "metadata": {
    "jupyter": {
     "source_hidden": true
    },
    "tags": []
   },
   "outputs": [],
   "source": [
    "\"\"\"\n",
    "#各chrのarrテーブルを作成\n",
    "\n",
    "arrs = []\n",
    "chromosome = natsorted(df[\"chromosome\"].unique().tolist())\n",
    "for chrom in chromosome:\n",
    "    position = [] #試行ごとにリストは初期化\n",
    "    \n",
    "    queried_chr = df.query(f\"chromosome == '{chr}'\") #chromosomeでクエリ\n",
    "    pos_uni = np.unique(queried_chr[\"start\"].tolist() + queried_chr[\"end\"].tolist()) #startとendをuniqueに\n",
    "    position += [(chrom, pos_uni[i], pos_uni[i+1]) for i in range(len(sorted(pos_uni))-1)] #小さい順にuniqueな領域([chr, start, end])\n",
    "    arr = np.array([\"ID\"]+[f\"{p[0]}:{p[1]}:{p[2]}\" for p in position]) #(\"ID\", \"chr:start:end\", ...)dfのカラムになる\n",
    "    \n",
    "    for ID in df[\"ID\"].unique():\n",
    "        \n",
    "        record = np.array(ID) #dfの行になる\n",
    "        queried_id = queried_chr.query(f\"ID == '{ID}'\") #IDでクエリ\n",
    "        for p in position:\n",
    "            queried_pos = queried_id.query(f\"start <= {p[1]} & {p[2]} <= end\") #uniqueな位置を含む行\n",
    "            cnsum = queried_pos[\"cn\"].sum() #cnの合計値\n",
    "            record = np.hstack([record, cnsum]) #cnsumをrecordの後ろに追加\n",
    "        \n",
    "        arr = np.vstack([arr, record]) #arr(カラム)の下に合計値の行を追加\n",
    "        \n",
    "    arrs.append(arr) #各chrごとのarrをリスト化\n",
    "\"\"\""
   ]
  },
  {
   "cell_type": "code",
   "execution_count": null,
   "id": "82b340ff-0105-43b5-8484-48e3cd4970c4",
   "metadata": {},
   "outputs": [],
   "source": [
    "#\"chr:start:end\"\n",
    "columns = [f\"{re[0]}:{re[1]}:{re[2]}\" for re in record]\n",
    "#sorted unique id\n",
    "row_ids = natsorted(df[\"ID\"].unique())"
   ]
  },
  {
   "cell_type": "code",
   "execution_count": null,
   "id": "0ca6a049-2d9a-4438-92ff-f9b78d8af16b",
   "metadata": {},
   "outputs": [],
   "source": [
    "#make dataframe\n",
    "series_id = pd.Series(row_ids, name=\"ID\")\n",
    "zeros = pd.DataFrame(np.zeros([len(row_ids),len(columns)], int), columns=columns)\n",
    "pd.concat([series_id, zeros], axis=1)"
   ]
  },
  {
   "cell_type": "code",
   "execution_count": null,
   "id": "58e34abf-816c-478f-a410-5bf36ee4fdb1",
   "metadata": {},
   "outputs": [],
   "source": []
  },
  {
   "cell_type": "code",
   "execution_count": null,
   "id": "d9f7eae6-f8c9-4105-8506-5440828d0dff",
   "metadata": {},
   "outputs": [],
   "source": []
  },
  {
   "cell_type": "code",
   "execution_count": null,
   "id": "e657b3cf-274a-46c7-b490-45139545d832",
   "metadata": {},
   "outputs": [],
   "source": []
  },
  {
   "cell_type": "code",
   "execution_count": null,
   "id": "b7ea6c71-b504-452b-9db8-683ea9fda402",
   "metadata": {},
   "outputs": [],
   "source": []
  },
  {
   "cell_type": "code",
   "execution_count": null,
   "id": "431ff9b8-5c52-4995-8d23-c7a51391d088",
   "metadata": {},
   "outputs": [],
   "source": []
  },
  {
   "cell_type": "code",
   "execution_count": null,
   "id": "17d4cb25-17a6-4768-b613-59c217335410",
   "metadata": {},
   "outputs": [],
   "source": []
  },
  {
   "cell_type": "code",
   "execution_count": null,
   "id": "319db161-f5b2-4430-b956-c38c6fbae698",
   "metadata": {},
   "outputs": [],
   "source": []
  },
  {
   "cell_type": "code",
   "execution_count": null,
   "id": "d7b0552c-1786-490a-bec3-bf27a7816190",
   "metadata": {},
   "outputs": [],
   "source": [
    "#各遺伝子ごとに\"cn\"の合計or平均を計算\n",
    "how = \"mean\"\n",
    "\n",
    "dfs = [] #各染色体におけるIDでgourpbyされた\"cn\"の合計or平均テーブル\n",
    "crs = [] #テーブル作成時に使用するカラム名(1,2,3,...,22,X,Y)\n",
    "for chrom in df[\"chromosome\"].unique():\n",
    "    df_ = df.query(f\"chromosome == '{chrom}'\")\n",
    "    crs.append(chrom)\n",
    "    \n",
    "    if how == \"mean\":\n",
    "        dfs.append(df_.groupby(\"ID\").mean(\"cn\")[\"cn\"])\n",
    "    elif how == \"sum\":\n",
    "        dfs.append(df_.groupby(\"ID\").sum(\"cn\")[\"cn\"])\n",
    "    else:\n",
    "        print(\"ERROR\")"
   ]
  },
  {
   "cell_type": "code",
   "execution_count": null,
   "id": "2b60e474-0e53-44c7-9970-da7c7cfad689",
   "metadata": {},
   "outputs": [],
   "source": [
    "#最初の染色体テーブルの\"ID\"と\"cn\"を取得\n",
    "IDs = dfs[0].index\n",
    "count = dfs[0].values\n",
    "\n",
    "#以降の\"cn\"情報をスタック\n",
    "for d in dfs[1:]:\n",
    "    count = np.vstack([count, d.values])"
   ]
  },
  {
   "cell_type": "code",
   "execution_count": null,
   "id": "e0deefb2-fe4e-4cb8-ad9b-fce9f2b05a95",
   "metadata": {},
   "outputs": [],
   "source": [
    "#行にサンプルID、列に染色体情報を持つテーブルデータを作成\n",
    "df_id = pd.DataFrame(IDs, columns=[\"ID\"])        #IDカラム\n",
    "df_ct = pd.DataFrame(count.T, columns=crs)       #染色体カラム\n",
    "df_ct = df_ct.loc[:,natsorted(df_ct.columns)]    #カラムのsort\n",
    "count_df = pd.concat([df_id, df_ct], axis=1)     #結合\n",
    "count_df = count_df.iloc[:,:-2]                  #性染色体をのぞく\n",
    "count_df.head()"
   ]
  },
  {
   "cell_type": "markdown",
   "id": "830f3c34-b8e8-44ce-800d-11f04182164b",
   "metadata": {
    "jp-MarkdownHeadingCollapsed": true,
    "tags": []
   },
   "source": [
    "## 可視化、u-map"
   ]
  },
  {
   "cell_type": "code",
   "execution_count": null,
   "id": "22c15be6-c7bd-4a8e-8195-de090c69d7ec",
   "metadata": {},
   "outputs": [],
   "source": [
    "#全サンプルのヒートマップ\n",
    "plt.figure(figsize=(8,4))\n",
    "sns.heatmap(data=count_df.iloc[:,1:], cmap=\"Blues\")\n",
    "plt.yticks([])\n",
    "#plt.xticks([])\n",
    "plt.show()"
   ]
  },
  {
   "cell_type": "code",
   "execution_count": null,
   "id": "2d22d521-37aa-4a8f-b176-bc14dbbd9eb0",
   "metadata": {},
   "outputs": [],
   "source": [
    "#U-mapで二次元に圧縮\n",
    "mapper = umap.UMAP(random_state=0)\n",
    "embedding = mapper.fit_transform(count_df.iloc[:,1:])"
   ]
  },
  {
   "cell_type": "code",
   "execution_count": null,
   "id": "8ef3b3b9-cc55-4994-80a5-4beaae56a6da",
   "metadata": {},
   "outputs": [],
   "source": [
    "#seabornで描画しやすいようにデータフレームに変換し、カラムをリネーム\n",
    "X_df = pd.concat([pd.DataFrame(col_id), pd.DataFrame(embedding)], axis=1)\n",
    "X_df.columns = [\"ID\", \"x\", \"y\"]"
   ]
  },
  {
   "cell_type": "code",
   "execution_count": null,
   "id": "67ca81dc-2a92-44ee-a98c-a4cf8ca1d749",
   "metadata": {},
   "outputs": [],
   "source": [
    "#DBSCANでクラスタリング(\"eps\"は任意)\n",
    "db = DBSCAN(eps=0.5, min_samples=3).fit(embedding)\n",
    "#label情報をデータフレームに追加\n",
    "labels = db.labels_\n",
    "X_df[\"labels\"] = labels"
   ]
  },
  {
   "cell_type": "code",
   "execution_count": null,
   "id": "6f982cc3-b04a-4296-8b7d-6a431859ba05",
   "metadata": {},
   "outputs": [],
   "source": [
    "#圧縮された要素を二次元に描画\n",
    "plt.figure(figsize=(8,4))\n",
    "sns.scatterplot(data=X_df, x=\"x\", y=\"y\", hue=\"labels\", palette=\"bright\")\n",
    "plt.xticks([])\n",
    "plt.yticks([])\n",
    "plt.show()"
   ]
  },
  {
   "cell_type": "code",
   "execution_count": null,
   "id": "e154dfa0-533e-4a64-8600-fcf96f070e66",
   "metadata": {},
   "outputs": [],
   "source": [
    "#各labelの出現数\n",
    "X_df.value_counts(\"labels\")"
   ]
  },
  {
   "cell_type": "code",
   "execution_count": null,
   "id": "5d804936-0a71-4a57-9789-a8f8932b7f15",
   "metadata": {},
   "outputs": [],
   "source": [
    "#lebel1に分類されたサンプルの平均\"cn\"数\n",
    "label_df = count_df.iloc[X_df.query(\"labels == 1\").index, 1:]\n",
    "label_df = label_df.loc[:, natsorted(label_df.T.index)]\n",
    "\n",
    "plt.figure(figsize=(8,4))\n",
    "for idx in range(label_df.shape[0]):\n",
    "    plt.plot(label_df.columns, label_df.iloc[idx,:].values, label=label_df.index[idx], linewidth=1)\n",
    "plt.legend()\n",
    "plt.show()"
   ]
  },
  {
   "cell_type": "code",
   "execution_count": null,
   "id": "3ff49cfd-8a80-4709-811d-b528e301c303",
   "metadata": {},
   "outputs": [],
   "source": [
    "#label1に分類された群のヒートマップ\n",
    "plt.figure(figsize=(8, 4))\n",
    "sns.heatmap(data=label_df, cmap=\"Blues\")\n",
    "plt.yticks(rotation=0)\n",
    "plt.show()"
   ]
  },
  {
   "cell_type": "markdown",
   "id": "73cebe4c-2f51-47bf-bf1a-4d5050bc48b0",
   "metadata": {
    "tags": []
   },
   "source": [
    "## cluster map"
   ]
  },
  {
   "cell_type": "code",
   "execution_count": null,
   "id": "88b32f86-5877-4174-ac09-7c869e4ce536",
   "metadata": {
    "jupyter": {
     "source_hidden": true
    },
    "tags": []
   },
   "outputs": [],
   "source": [
    "def scaling(df, axis=1, minmax=False):\n",
    "    #\"minmax\"or\"z_score\"\n",
    "    if minmax: s = MinMaxScaler()\n",
    "    else: s = StandardScaler()\n",
    "    \n",
    "    #axis\n",
    "    if axis == 0: df = pd.DataFrame(s.fit_transform(df.T).T, columns=df.columns)\n",
    "    elif axis == 1: df = pd.DataFrame(s.fit_transform(df), columns=df.columns)\n",
    "    else: print(\"ValueError: axis must be either 0 or 1\")\n",
    "    \n",
    "    return df\n",
    "\n",
    "\n",
    "def convert_z(df):\n",
    "\n",
    "    #linkage\n",
    "    Z = hierarchy.ward(pdist(df))\n",
    "    #変換後のindexを取得\n",
    "    Z_ind = hierarchy.leaves_list(Z)\n",
    "    \n",
    "    return Z, Z_ind\n",
    "    \n",
    "\n",
    "def clsmap(df,\n",
    "           scale=False,\n",
    "           axis=1,\n",
    "           transpose=True,\n",
    "           figsize=(8,5),\n",
    "           cmap=\"Greys\",\n",
    "           n_cluster=0,\n",
    "           linewidth=0.5,\n",
    "           center=None,\n",
    "           vmax=None,\n",
    "           vmin=None,\n",
    "           save=True):\n",
    "    \n",
    "    #dendrogram描画用の変換\n",
    "    if scale == \"std\": df = scaling(df, axis=axis, minmax=False)\n",
    "    elif scale == \"minmax\": df = scaling(df, axis=axis, minmax=True)\n",
    "    elif scale == False: pass\n",
    "    else: print(\"ValueError: scale must be either 'std' or 'minmax'\")\n",
    "\n",
    "    Z, Z_ind = convert_z(df)\n",
    "\n",
    "    #上から何個目の分岐点までを取るかの距離を指定\n",
    "    t2 = Z.T[2][-(n_cluster-1)]\n",
    "\n",
    "    #figure領域の作成\n",
    "    figure = plt.figure(figsize=figsize)\n",
    "\n",
    "    #gs1->dendrogram,heatmap, gs2->sns.bar,cbar\n",
    "    gs1 = GridSpec(nrows=2, ncols=1, height_ratios=[2, 8], bottom=0.16, hspace=0)\n",
    "    gs2 = GridSpec(nrows=1, ncols=2, width_ratios=[9.5,0.5], top=0.15, hspace=0.1)\n",
    "\n",
    "    #dendrogram\n",
    "    ax1 = figure.add_subplot(gs1[0])\n",
    "    #setting linewidth param\n",
    "    plt.rcParams['lines.linewidth'] = linewidth\n",
    "    #周りのメモリを削除\n",
    "    ax1.axis(\"off\")\n",
    "\n",
    "    #plotting dendrogram\n",
    "    hierarchy.dendrogram(Z, color_threshold=t2,\n",
    "                         ax=ax1, no_labels=True,\n",
    "                         above_threshold_color=\"darkslategray\")\n",
    "\n",
    "    #heatmap\n",
    "    ax2 = figure.add_subplot(gs1[1]) #heatmap\n",
    "    ax3 = figure.add_subplot(gs2[0]) #color bar\n",
    "    ax4 = figure.add_subplot(gs2[1]) #color bar text\n",
    "    \n",
    "    if transpose: yticklabels = df.columns\n",
    "    else: yticklabels = df.index\n",
    "\n",
    "    #plotting heatmap\n",
    "    #cbarは別のaxに描画\n",
    "    if transpose == True:\n",
    "        df = df.iloc[Z_ind,:].T\n",
    "    else:\n",
    "        df = df.iloc[Z_ind,:]\n",
    "\n",
    "    sns.heatmap(df, xticklabels=[], yticklabels=yticklabels,\n",
    "                cmap=cmap, ax=ax2, cbar_ax=ax3,\n",
    "                cbar_kws={\"orientation\": \"horizontal\"}, #ここで\"ticks\":[]とするとticksのリストを取得できない\n",
    "                center=center, vmin=vmin, vmax=vmax)\n",
    "\n",
    "    #cbarのticksのリストを取得\n",
    "    ticks = ax2.collections[0].colorbar.ax.get_xticks()\n",
    "    #取得した後でticksの表示をなくす\n",
    "    ax2.collections[0].colorbar.ax.set_xticks([])\n",
    "    #cbarの隣にテキストを挿入\n",
    "    ax4.text(-1.6, 0.3, f\"[{ticks[0]} - {ticks[-1]}]\")\n",
    "    ax4.axis(\"off\")\n",
    "\n",
    "    #ラベルを横向き&右側に描画\n",
    "    ax2.yaxis.tick_right()\n",
    "    ax2.tick_params(labelrotation=0, labelsize=6, right=False, axis=\"y\", pad=0)\n",
    "\n",
    "\n",
    "def fcls_table(df, ID=None, scale=False, axis=1, n_cluster=5):\n",
    "    \n",
    "    #ID列の指定がある場合は除く\n",
    "    if ID != None: data = df.drop(ID, axis=1)\n",
    "    else: data = df\n",
    "    \n",
    "    #標準化\n",
    "    if scale == \"std\": data = scaling(data, axis=axis, minmax=False)\n",
    "    elif scale == \"minmax\": data = scaling(data, axis=axis, minmax=True)\n",
    "    elif scale == False: pass\n",
    "    else: print(\"ValueError: scale must be either 'std' or 'minmax'\")\n",
    "    \n",
    "    #Z,indexを取得\n",
    "    Z, Z_ind = convert_z(data)\n",
    "    #上から何個目の分岐点までを取るかの距離を指定\n",
    "    t1 = Z.T[2][-n_cluster]\n",
    "   \n",
    "    #分類されるクラスターラベルを取得\n",
    "    fcls = hierarchy.fcluster(Z, t=t1, criterion='distance')\n",
    "    #Series型に変換\n",
    "    table = pd.Series(fcls, name=\"cluster\")\n",
    "    \n",
    "    #ID列の指定がある場合はID列と結合\n",
    "    if ID != None: \n",
    "        table = pd.concat([df[ID], table], axis=1)\n",
    "        #dendrogramの表示順に並べ替え\n",
    "        table = table.iloc[Z_ind,:]\n",
    "    else: table = table[Z_ind]\n",
    "    \n",
    "    return table.reset_index(drop=True)\n",
    "\n",
    "\n",
    "def cluster_box(data, cls_col=\"cluster\", col=3, figsize=(10, 5), tight=True, sharey=\"all\", sharex=\"all\"):\n",
    "    \n",
    "    #rowの必要数を計算\n",
    "    n_cluster = data[\"cluster\"].unique().shape[0]\n",
    "    row = n_cluster//col+1\n",
    "    \n",
    "    fig, ax = plt.subplots(row, col, figsize=figsize, tight_layout=tight, sharey=sharey, sharex=sharex)\n",
    "    for i in range(row*col):\n",
    "        if i+1 <= n_cluster:\n",
    "            q = data.query(f\"{cls_col} == {i+1}\")\n",
    "\n",
    "            if all((col>1, row>1)): ax_q = ax[i//col, i%col]\n",
    "            else: ax_q = ax[i]\n",
    "            sns.boxplot(q.iloc[:,:-1], ax=ax_q, sym=\".\")\n",
    "            ax_q.set_title(f\"cluster: {i+1} (n={q.shape[0]})\")\n",
    "\n",
    "        elif i%col != col-1:\n",
    "            if all((col>1, row>1)): ax_none = ax[i//col, i%col]\n",
    "            else: ax_none = ax[i]\n",
    "            ax_none.axis(\"off\")\n",
    "\n",
    "        else:\n",
    "            if all((col>1, row>1)): ax_all = ax[i//col, i%col]\n",
    "            else: ax_all = ax[i]\n",
    "            sns.boxplot(data.iloc[:,:-1], ax=ax_all)\n",
    "            ax_all.set_title(f\"cluster: all (n={data.shape[0]})\")\n",
    "        \n",
    "    plt.show()\n",
    "    \n",
    "\n",
    "def convert_log(df, mode=\"e\", axis=1):\n",
    "    \n",
    "    if axis == 0: df = df.T\n",
    "    elif axis == 1: pass\n",
    "    \n",
    "    if (axis == 0) or (axis == 1):\n",
    "        \n",
    "        for i in range(df.shape[1]):\n",
    "            series = df.iloc[:, i]\n",
    "            ymin = series[series>0].min()\n",
    "\n",
    "            if mode==\"2\": df.iloc[:, i] = series.map(lambda x: np.log2(x+ymin))\n",
    "            elif mode==\"10\": df.iloc[:, i] = series.map(lambda x: np.log10(x+ymin))\n",
    "            elif mode==\"e\": df.iloc[:, i] = series.map(lambda x: np.log(x+ymin))\n",
    "            else: print(\"ValueError: mode must be either '2', '10' or 'e'\")\n",
    "        \n",
    "        if axis == 0: return df.T.values\n",
    "        elif axis == 1: return df.values\n",
    "    \n",
    "    \n",
    "    else: print(\"ValueError: axis must be either '0' or '1'\")"
   ]
  },
  {
   "cell_type": "code",
   "execution_count": null,
   "id": "f2b962e2-9fc5-444e-b29f-122b5ffe58e8",
   "metadata": {},
   "outputs": [],
   "source": [
    "if \"cluster\" in count_df.columns:\n",
    "    count_df.drop(\"cluster\", axis=1, inplace=True)"
   ]
  },
  {
   "cell_type": "code",
   "execution_count": null,
   "id": "a74bf478-31cb-4a3e-b672-af7df70ffac1",
   "metadata": {},
   "outputs": [],
   "source": [
    "log = True\n",
    "if log: count_df.iloc[:,1:] = convert_log(count_df.iloc[:,1:], mode=\"10\", axis=0)"
   ]
  },
  {
   "cell_type": "code",
   "execution_count": null,
   "id": "08245dfa-e2ed-4ab2-8eb1-99435e9dea44",
   "metadata": {},
   "outputs": [],
   "source": [
    "#任意のクラスター数\n",
    "n_cls = 5\n",
    "\n",
    "#sanmpleでスケーリング --> 特にどの染色体に変異があるか\n",
    "clsmap(count_df.iloc[:,1:], n_cluster=n_cls, cmap=\"Blues\", scale=\"std\", axis=0, center=0, vmin=-1, vmax=1)"
   ]
  },
  {
   "cell_type": "code",
   "execution_count": null,
   "id": "faebe8a6-1768-4788-b0f4-04dd5c193ca3",
   "metadata": {},
   "outputs": [],
   "source": [
    "#データフレームに\"cluster\"列を追加\n",
    "count_df[\"cluster\"] = fcls_table(count_df.iloc[:,1:], n_cluster=n_cls, scale=\"std\", axis=0)"
   ]
  },
  {
   "cell_type": "code",
   "execution_count": null,
   "id": "6be03caa-e89a-4dd7-8064-d799b7664bd3",
   "metadata": {},
   "outputs": [],
   "source": [
    "#標準化したコピーデータ\n",
    "#copy = count_df.copy()\n",
    "#copy.iloc[:,1:-1] = scaling(copy.iloc[:,1:-1], axis=1, minmax=True)"
   ]
  },
  {
   "cell_type": "code",
   "execution_count": null,
   "id": "019b5678-7914-43b3-9c77-9ed24a84d11c",
   "metadata": {},
   "outputs": [],
   "source": [
    "cluster_box(count_df.iloc[:,1:], col=3)"
   ]
  },
  {
   "cell_type": "code",
   "execution_count": null,
   "id": "ca2fa431-5a9b-43bd-8e97-cdc44708b1a4",
   "metadata": {},
   "outputs": [],
   "source": []
  },
  {
   "cell_type": "code",
   "execution_count": null,
   "id": "60f8ed57-5129-422d-8ebf-5cf75c00bce7",
   "metadata": {},
   "outputs": [],
   "source": []
  },
  {
   "cell_type": "code",
   "execution_count": null,
   "id": "b68be8dc-3850-4114-b296-36b0a2e5a49f",
   "metadata": {},
   "outputs": [],
   "source": []
  },
  {
   "cell_type": "code",
   "execution_count": null,
   "id": "288558d3-30d8-4cd3-a331-875f711d79fb",
   "metadata": {},
   "outputs": [],
   "source": []
  },
  {
   "cell_type": "code",
   "execution_count": null,
   "id": "de2790a6-a391-4b7b-aa47-39f22fe88f95",
   "metadata": {},
   "outputs": [],
   "source": []
  }
 ],
 "metadata": {
  "kernelspec": {
   "display_name": "Python 3 (ipykernel)",
   "language": "python",
   "name": "python3"
  },
  "language_info": {
   "codemirror_mode": {
    "name": "ipython",
    "version": 3
   },
   "file_extension": ".py",
   "mimetype": "text/x-python",
   "name": "python",
   "nbconvert_exporter": "python",
   "pygments_lexer": "ipython3",
   "version": "3.9.16"
  }
 },
 "nbformat": 4,
 "nbformat_minor": 5
}
